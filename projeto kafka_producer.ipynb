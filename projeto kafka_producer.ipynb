{
 "cells": [
  {
   "cell_type": "code",
   "execution_count": 8,
   "id": "1b94879a",
   "metadata": {},
   "outputs": [],
   "source": [
    "#Importa as bibliotecas\n",
    "import pandas as pd\n",
    "import json\n",
    "from csv import DictReader\n",
    "import datetime as dt\n",
    "from kafka import KafkaProducer"
   ]
  },
  {
   "cell_type": "code",
   "execution_count": 9,
   "id": "6a363d64",
   "metadata": {},
   "outputs": [
    {
     "name": "stdout",
     "output_type": "stream",
     "text": [
      "Iniciando o Kafka producer at 2023-03-09 21:10:28.671402\n"
     ]
    }
   ],
   "source": [
    "#Inicializar o cliente Kafka Producer\n",
    "producer = KafkaProducer(bootstrap_servers=['localhost:9092'])\n",
    "\n",
    "print(f'Iniciando o Kafka producer at {dt.datetime.utcnow()}')"
   ]
  },
  {
   "cell_type": "code",
   "execution_count": 10,
   "id": "28925c96",
   "metadata": {},
   "outputs": [],
   "source": [
    "#Configurar um contador e definir o caminho do arquivo\n",
    "counter = 0 \n",
    "file = 'brio_totals-Sheet1.csv'"
   ]
  },
  {
   "cell_type": "code",
   "execution_count": 11,
   "id": "96faa6f4",
   "metadata": {},
   "outputs": [
    {
     "name": "stdout",
     "output_type": "stream",
     "text": [
      "Vendasglobais2 0 b'0'\n",
      "Vendasglobais2 0 b'1'\n",
      "Vendasglobais2 0 b'2'\n",
      "Vendasglobais2 0 b'3'\n",
      "Vendasglobais2 0 b'4'\n",
      "Vendasglobais2 0 b'5'\n",
      "Vendasglobais2 0 b'6'\n",
      "Vendasglobais2 0 b'7'\n",
      "Vendasglobais2 0 b'8'\n",
      "Vendasglobais2 0 b'9'\n",
      "Vendasglobais2 0 b'10'\n",
      "Vendasglobais2 0 b'11'\n",
      "Vendasglobais2 0 b'12'\n",
      "Vendasglobais2 0 b'13'\n",
      "Vendasglobais2 0 b'14'\n",
      "Vendasglobais2 0 b'15'\n",
      "Vendasglobais2 0 b'16'\n",
      "Vendasglobais2 0 b'17'\n",
      "Vendasglobais2 0 b'18'\n",
      "Vendasglobais2 0 b'19'\n",
      "Vendasglobais2 0 b'20'\n",
      "Vendasglobais2 0 b'21'\n",
      "Vendasglobais2 0 b'22'\n",
      "Vendasglobais2 0 b'23'\n",
      "Vendasglobais2 0 b'24'\n",
      "Vendasglobais2 0 b'25'\n",
      "Vendasglobais2 0 b'26'\n"
     ]
    }
   ],
   "source": [
    "with open(file, 'r') as new_obj:\n",
    "    csv_dict_reader = DictReader(new_obj)\n",
    "    for row in csv_dict_reader:\n",
    "        key = str(counter).encode()\n",
    "        ack = producer.send(topic='Vendasglobais2', key=key, value=json.dumps(row).encode('utf-8'))\n",
    "        metadata = ack.get()\n",
    "        counter = counter + 1\n",
    "        print(metadata.topic, metadata.partition, key)"
   ]
  },
  {
   "cell_type": "code",
   "execution_count": null,
   "id": "49cadacb",
   "metadata": {},
   "outputs": [],
   "source": []
  },
  {
   "cell_type": "code",
   "execution_count": null,
   "id": "6284d923",
   "metadata": {},
   "outputs": [],
   "source": []
  }
 ],
 "metadata": {
  "kernelspec": {
   "display_name": "Python 3 (ipykernel)",
   "language": "python",
   "name": "python3"
  },
  "language_info": {
   "codemirror_mode": {
    "name": "ipython",
    "version": 3
   },
   "file_extension": ".py",
   "mimetype": "text/x-python",
   "name": "python",
   "nbconvert_exporter": "python",
   "pygments_lexer": "ipython3",
   "version": "3.9.13"
  }
 },
 "nbformat": 4,
 "nbformat_minor": 5
}
